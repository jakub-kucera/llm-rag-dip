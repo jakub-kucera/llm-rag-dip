{
 "cells": [
  {
   "cell_type": "code",
   "execution_count": 2,
   "metadata": {},
   "outputs": [],
   "source": [
    "import os\n",
    "\n",
    "import numpy as np\n",
    "import faiss\n",
    "from tqdm import tqdm"
   ]
  },
  {
   "cell_type": "code",
   "execution_count": 3,
   "metadata": {},
   "outputs": [
    {
     "data": {
      "text/plain": [
       "17790"
      ]
     },
     "execution_count": 3,
     "metadata": {},
     "output_type": "execute_result"
    }
   ],
   "source": [
    "index_dir = \"/home/kucerj56/FlashRAG/experiments/build_index\"\n",
    "files = [file for file in os.listdir(index_dir)]\n",
    "len(files)"
   ]
  },
  {
   "cell_type": "code",
   "execution_count": 4,
   "metadata": {},
   "outputs": [
    {
     "data": {
      "text/plain": [
       "17784"
      ]
     },
     "execution_count": 4,
     "metadata": {},
     "output_type": "execute_result"
    }
   ],
   "source": [
    "files = list(filter(lambda x: x.endswith(\".npy\"), files))\n",
    "len(files)"
   ]
  },
  {
   "cell_type": "code",
   "execution_count": 5,
   "metadata": {},
   "outputs": [],
   "source": [
    "files = sorted(files, key=lambda x: int(x.split('.')[0].split('_')[-1]))"
   ]
  },
  {
   "cell_type": "code",
   "execution_count": 6,
   "metadata": {},
   "outputs": [
    {
     "data": {
      "text/plain": [
       "['query_emb_batch_0.npy',\n",
       " 'query_emb_batch_512.npy',\n",
       " 'query_emb_batch_1024.npy',\n",
       " 'query_emb_batch_1536.npy',\n",
       " 'query_emb_batch_2048.npy',\n",
       " 'query_emb_batch_2560.npy',\n",
       " 'query_emb_batch_3072.npy',\n",
       " 'query_emb_batch_3584.npy',\n",
       " 'query_emb_batch_4096.npy',\n",
       " 'query_emb_batch_4608.npy']"
      ]
     },
     "execution_count": 6,
     "metadata": {},
     "output_type": "execute_result"
    }
   ],
   "source": [
    "files[:10]"
   ]
  },
  {
   "cell_type": "code",
   "execution_count": 7,
   "metadata": {},
   "outputs": [
    {
     "name": "stderr",
     "output_type": "stream",
     "text": [
      "100%|█████████████████████████████████████████████████████████████████████████████████████████████████████████████████████████████████████████| 17784/17784 [02:47<00:00, 105.87it/s]\n"
     ]
    }
   ],
   "source": [
    "embds = []\n",
    "for file in tqdm(files):\n",
    "    embds.append(np.load(os.path.join(index_dir, file)))"
   ]
  },
  {
   "cell_type": "code",
   "execution_count": 8,
   "metadata": {},
   "outputs": [],
   "source": [
    "embs = embds"
   ]
  },
  {
   "cell_type": "code",
   "execution_count": 9,
   "metadata": {},
   "outputs": [],
   "source": [
    "concat_embds = np.concatenate(embs, axis=0)"
   ]
  },
  {
   "cell_type": "code",
   "execution_count": 10,
   "metadata": {},
   "outputs": [],
   "source": [
    "embs = embds = None\n",
    "# delete(embs)\n",
    "# delete(embds)"
   ]
  },
  {
   "cell_type": "code",
   "execution_count": null,
   "metadata": {},
   "outputs": [],
   "source": [
    "# TODO L2 normalise?"
   ]
  },
  {
   "cell_type": "code",
   "execution_count": 12,
   "metadata": {},
   "outputs": [],
   "source": [
    "dim = concat_embds.shape[-1]\n",
    "# faiss_index = faiss.index_factory(dim, \"Flat\", faiss.METRIC_INNER_PRODUCT)\n",
    "faiss_index = faiss.index_factory(dim, \"IVF4096,PQ64x8\", faiss.METRIC_INNER_PRODUCT)"
   ]
  },
  {
   "cell_type": "code",
   "execution_count": 14,
   "metadata": {},
   "outputs": [
    {
     "data": {
      "text/plain": [
       "False"
      ]
     },
     "execution_count": 14,
     "metadata": {},
     "output_type": "execute_result"
    }
   ],
   "source": [
    "faiss_index.is_trained"
   ]
  },
  {
   "cell_type": "code",
   "execution_count": 15,
   "metadata": {},
   "outputs": [],
   "source": [
    "faiss_index.train(concat_embds)"
   ]
  },
  {
   "cell_type": "code",
   "execution_count": 16,
   "metadata": {},
   "outputs": [],
   "source": [
    "faiss_index.add(concat_embds)"
   ]
  },
  {
   "cell_type": "code",
   "execution_count": 17,
   "metadata": {},
   "outputs": [],
   "source": [
    "# faiss.write_index(faiss_index, \"/home/kucerj56/datasets/index/wiki_2018_e5_base_flat.index\")\n",
    "faiss.write_index(faiss_index, \"/home/kucerj56/datasets/index/wiki_2018_e5_base_IVF4096_PQ64x8.index\")"
   ]
  },
  {
   "cell_type": "code",
   "execution_count": 21,
   "metadata": {},
   "outputs": [],
   "source": [
    "memmap = np.memmap(\"/home/kucerj56/datasets/index/wiki_embeddings.npy\", shape=concat_embds.shape, mode=\"w+\", dtype=concat_embds.dtype)"
   ]
  },
  {
   "cell_type": "code",
   "execution_count": 23,
   "metadata": {},
   "outputs": [
    {
     "name": "stdout",
     "output_type": "stream",
     "text": [
      "shape of all_embeddings: (9105161, 768)\n"
     ]
    },
    {
     "name": "stderr",
     "output_type": "stream",
     "text": [
      "                                                                                                                                                                                     "
     ]
    }
   ],
   "source": [
    "length = concat_embds.shape[0]\n",
    "print(f\"shape of all_embeddings: {concat_embds.shape}\")\n",
    "# add in batch\n",
    "save_batch_size = 10000\n",
    "if length > save_batch_size:\n",
    "    for i in tqdm(range(0, length, save_batch_size), leave=False, desc=\"Saving Embeddings\"):\n",
    "        j = min(i + save_batch_size, length)\n",
    "        memmap[i:j] = concat_embds[i:j]\n",
    "else:\n",
    "    memmap[:] = concat_embds\n"
   ]
  },
  {
   "cell_type": "code",
   "execution_count": null,
   "metadata": {},
   "outputs": [],
   "source": []
  }
 ],
 "metadata": {
  "kernelspec": {
   "display_name": ".venv",
   "language": "python",
   "name": "python3"
  },
  "language_info": {
   "codemirror_mode": {
    "name": "ipython",
    "version": 3
   },
   "file_extension": ".py",
   "mimetype": "text/x-python",
   "name": "python",
   "nbconvert_exporter": "python",
   "pygments_lexer": "ipython3",
   "version": "3.10.12"
  }
 },
 "nbformat": 4,
 "nbformat_minor": 4
}
