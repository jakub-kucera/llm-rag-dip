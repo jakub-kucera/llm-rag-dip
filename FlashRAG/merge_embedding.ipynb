{
 "cells": [
  {
   "cell_type": "code",
   "id": "initial_id",
   "metadata": {
    "collapsed": true,
    "ExecuteTime": {
     "end_time": "2025-03-06T12:59:57.914913Z",
     "start_time": "2025-03-06T12:59:57.836557Z"
    }
   },
   "source": [
    "import os\n",
    "\n",
    "import numpy as np\n",
    "import faiss"
   ],
   "outputs": [],
   "execution_count": 20
  },
  {
   "metadata": {
    "ExecuteTime": {
     "end_time": "2025-03-06T12:33:09.418210Z",
     "start_time": "2025-03-06T12:33:09.414065Z"
    }
   },
   "cell_type": "code",
   "source": [
    "index_dir = \"/Users/jakubkucera-sch/Documents/diplomka/FlashRAG/index\"\n",
    "files = [file for file in os.listdir(index_dir)]\n",
    "files"
   ],
   "id": "b3a2f1c87dc39454",
   "outputs": [
    {
     "data": {
      "text/plain": [
       "['query_emb_batch_0.npy',\n",
       " 'query_emb_batch_1024.npy',\n",
       " 'query_emb_batch_512.npy']"
      ]
     },
     "execution_count": 11,
     "metadata": {},
     "output_type": "execute_result"
    }
   ],
   "execution_count": 11
  },
  {
   "metadata": {
    "ExecuteTime": {
     "end_time": "2025-03-06T12:31:45.933972Z",
     "start_time": "2025-03-06T12:31:45.932119Z"
    }
   },
   "cell_type": "code",
   "source": "files = list(filter(lambda x: x.endswith(\".npy\"), files))",
   "id": "33720dd5495824f8",
   "outputs": [],
   "execution_count": 8
  },
  {
   "metadata": {
    "ExecuteTime": {
     "end_time": "2025-03-06T12:31:46.314448Z",
     "start_time": "2025-03-06T12:31:46.312190Z"
    }
   },
   "cell_type": "code",
   "source": "files",
   "id": "8b8fcbd99b190545",
   "outputs": [
    {
     "data": {
      "text/plain": [
       "['query_emb_batch_0.npy',\n",
       " 'query_emb_batch_1024.npy',\n",
       " 'query_emb_batch_512.npy']"
      ]
     },
     "execution_count": 9,
     "metadata": {},
     "output_type": "execute_result"
    }
   ],
   "execution_count": 9
  },
  {
   "metadata": {
    "ExecuteTime": {
     "end_time": "2025-03-06T12:44:25.363835Z",
     "start_time": "2025-03-06T12:44:25.358201Z"
    }
   },
   "cell_type": "code",
   "source": [
    "embs = [np.load(os.path.join(index_dir, file)) for file in files]\n",
    "# emb1 = np.load(os.path.join(index_dir, files[1]))"
   ],
   "id": "b49fa070a2c70ed6",
   "outputs": [],
   "execution_count": 15
  },
  {
   "metadata": {
    "ExecuteTime": {
     "end_time": "2025-03-06T13:06:43.799990Z",
     "start_time": "2025-03-06T13:06:43.797692Z"
    }
   },
   "cell_type": "code",
   "source": [
    "for emb in embs:\n",
    "    print(emb.shape)"
   ],
   "id": "74d810a1ff585107",
   "outputs": [
    {
     "name": "stdout",
     "output_type": "stream",
     "text": [
      "(512, 768)\n",
      "(512, 768)\n",
      "(512, 768)\n"
     ]
    }
   ],
   "execution_count": 40
  },
  {
   "metadata": {
    "ExecuteTime": {
     "end_time": "2025-03-06T13:06:15.682044Z",
     "start_time": "2025-03-06T13:06:15.679270Z"
    }
   },
   "cell_type": "code",
   "source": "concat_embds = np.concatenate(embs, axis=0)",
   "id": "9bec9ef50d4bc550",
   "outputs": [],
   "execution_count": 33
  },
  {
   "metadata": {
    "ExecuteTime": {
     "end_time": "2025-03-06T13:06:16.287754Z",
     "start_time": "2025-03-06T13:06:16.284969Z"
    }
   },
   "cell_type": "code",
   "source": "concat_embds.shape",
   "id": "7d6342689f4a90df",
   "outputs": [
    {
     "data": {
      "text/plain": [
       "(1536, 768)"
      ]
     },
     "execution_count": 34,
     "metadata": {},
     "output_type": "execute_result"
    }
   ],
   "execution_count": 34
  },
  {
   "metadata": {
    "ExecuteTime": {
     "end_time": "2025-03-06T13:10:28.341007Z",
     "start_time": "2025-03-06T13:10:28.337818Z"
    }
   },
   "cell_type": "code",
   "source": [
    "dim = concat_embds.shape[-1]\n",
    "faiss_index = faiss.index_factory(dim, \"Flat\", faiss.METRIC_INNER_PRODUCT)"
   ],
   "id": "ae61736c686bc439",
   "outputs": [],
   "execution_count": 41
  },
  {
   "metadata": {
    "ExecuteTime": {
     "end_time": "2025-03-06T13:10:28.530896Z",
     "start_time": "2025-03-06T13:10:28.528676Z"
    }
   },
   "cell_type": "code",
   "source": "faiss_index",
   "id": "36203ac609d37bb3",
   "outputs": [
    {
     "data": {
      "text/plain": [
       "<faiss.swigfaiss.IndexFlat; proxy of <Swig Object of type 'faiss::IndexFlat *' at 0x134266730> >"
      ]
     },
     "execution_count": 42,
     "metadata": {},
     "output_type": "execute_result"
    }
   ],
   "execution_count": 42
  },
  {
   "metadata": {
    "ExecuteTime": {
     "end_time": "2025-03-06T13:10:28.662377Z",
     "start_time": "2025-03-06T13:10:28.660089Z"
    }
   },
   "cell_type": "code",
   "source": [
    "\n",
    "faiss_index.is_trained"
   ],
   "id": "97c52383984bd52c",
   "outputs": [
    {
     "data": {
      "text/plain": [
       "True"
      ]
     },
     "execution_count": 43,
     "metadata": {},
     "output_type": "execute_result"
    }
   ],
   "execution_count": 43
  },
  {
   "metadata": {
    "ExecuteTime": {
     "end_time": "2025-03-06T13:10:28.816975Z",
     "start_time": "2025-03-06T13:10:28.814584Z"
    }
   },
   "cell_type": "code",
   "source": [
    "# if not faiss_index.is_trained:\n",
    "#     faiss_index.train(all_embeddings)\n",
    "faiss_index.add(concat_embds)\n"
   ],
   "id": "5759b33a3667bcc8",
   "outputs": [],
   "execution_count": 44
  },
  {
   "metadata": {
    "ExecuteTime": {
     "end_time": "2025-03-06T13:10:28.973058Z",
     "start_time": "2025-03-06T13:10:28.970619Z"
    }
   },
   "cell_type": "code",
   "source": [
    "\n",
    "faiss_index.ntotal"
   ],
   "id": "b56e7baa6f47e52b",
   "outputs": [
    {
     "data": {
      "text/plain": [
       "1536"
      ]
     },
     "execution_count": 45,
     "metadata": {},
     "output_type": "execute_result"
    }
   ],
   "execution_count": 45
  },
  {
   "metadata": {
    "ExecuteTime": {
     "end_time": "2025-03-06T13:11:15.014231Z",
     "start_time": "2025-03-06T13:11:15.010738Z"
    }
   },
   "cell_type": "code",
   "source": "faiss.write_index(faiss_index, \"faiss_index.index\")",
   "id": "fbd4ede902294833",
   "outputs": [],
   "execution_count": 46
  },
  {
   "metadata": {
    "ExecuteTime": {
     "end_time": "2025-03-06T13:19:56.963875Z",
     "start_time": "2025-03-06T13:19:56.955684Z"
    }
   },
   "cell_type": "code",
   "source": "memmap = np.memmap(\"../embeddings_saved.npy\", shape=concat_embds.shape, mode=\"w+\", dtype=concat_embds.dtype)",
   "id": "9f5a89d1af43dc68",
   "outputs": [],
   "execution_count": 48
  },
  {
   "metadata": {
    "ExecuteTime": {
     "end_time": "2025-03-06T13:20:11.220949Z",
     "start_time": "2025-03-06T13:20:11.218391Z"
    }
   },
   "cell_type": "code",
   "source": "memmap[:] = concat_embds[:]",
   "id": "b10ab992a66cd982",
   "outputs": [],
   "execution_count": 50
  },
  {
   "metadata": {},
   "cell_type": "code",
   "outputs": [],
   "execution_count": null,
   "source": "",
   "id": "f2739fe3772c09e6"
  }
 ],
 "metadata": {
  "kernelspec": {
   "display_name": "Python 3",
   "language": "python",
   "name": "python3"
  },
  "language_info": {
   "codemirror_mode": {
    "name": "ipython",
    "version": 2
   },
   "file_extension": ".py",
   "mimetype": "text/x-python",
   "name": "python",
   "nbconvert_exporter": "python",
   "pygments_lexer": "ipython2",
   "version": "2.7.6"
  }
 },
 "nbformat": 4,
 "nbformat_minor": 5
}
