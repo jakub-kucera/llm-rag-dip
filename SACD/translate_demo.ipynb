{
 "cells": [
  {
   "cell_type": "code",
   "id": "initial_id",
   "metadata": {
    "collapsed": true,
    "ExecuteTime": {
     "end_time": "2025-02-16T19:13:38.989867Z",
     "start_time": "2025-02-16T19:13:38.988182Z"
    }
   },
   "source": [
    ""
   ],
   "outputs": [],
   "execution_count": null
  },
  {
   "metadata": {
    "ExecuteTime": {
     "end_time": "2025-03-23T16:12:12.667016Z",
     "start_time": "2025-03-23T16:12:09.713755Z"
    }
   },
   "cell_type": "code",
   "source": [
    "from transformers import MarianMTModel, MarianTokenizer, AutoTokenizer, NllbTokenizer, NllbMoeModel, \\\n",
    "    AutoModelForSeq2SeqLM\n",
    "\n",
    "# model_name = 'Helsinki-NLP/opus-mt-cs-en'\n",
    "model_name = 'facebook/nllb-200-distilled-600M'\n",
    "# tokenizer = MarianTokenizer.from_pretrained(model_name)\n",
    "# model = MarianMTModel.from_pretrained(model_name)\n",
    "# tokenizer = AutoTokenizer.from_pretrained(model_name)\n",
    "tokenizer = AutoTokenizer.from_pretrained(\n",
    "    model_name, token=True, src_lang=\"cs-CZ\"\n",
    ")\n",
    "\n",
    "# model = NllbMoeModel.from_pretrained(model_name)\n",
    "model = AutoModelForSeq2SeqLM.from_pretrained(model_name, token=True)\n",
    "\n",
    "def translate(text):\n",
    "    batch = tokenizer([text], return_tensors=\"pt\")\n",
    "    # translated_tokens = model.generate(**batch)\n",
    "    translated_tokens = model.generate(\n",
    "        **batch, forced_bos_token_id=tokenizer.convert_tokens_to_ids(\"eng_Latn\")\n",
    "    )\n",
    "    return tokenizer.batch_decode(translated_tokens, skip_special_tokens=True)[0]\n",
    "\n",
    "sample_text = \"Toto je ukázkový text.\"\n",
    "print(translate(sample_text))\n"
   ],
   "id": "61a14bee8a881ecc",
   "outputs": [
    {
     "name": "stdout",
     "output_type": "stream",
     "text": [
      "This is a ukázká text.\n"
     ]
    }
   ],
   "execution_count": 4
  },
  {
   "metadata": {
    "ExecuteTime": {
     "end_time": "2025-03-23T16:14:18.869577Z",
     "start_time": "2025-03-23T16:14:18.863174Z"
    }
   },
   "cell_type": "code",
   "source": [
    "text = \"\"\"\n",
    "Rozhodnutí správního orgánu: nepřezkoumatelnost\n",
    "\n",
    "k § 76 odst. 1 písm. a) soudního řádu správního\n",
    "k § 47 a 59 správního řádu\n",
    "\n",
    "Výrok správního orgánu rozhodujícího o odvolání, jímž se mění pouze odůvodnění rozhodnutí správního orgánu I. stupně, nemá oporu v zákoně a činí rozhodnutí odvolacího orgánu nepřezkoumatelným pro nesrozumitelnost [§ 76 odst. 1 písm. a) s. ř. s.].\n",
    "\n",
    "(Podle rozsudku Nejvyššího správního soudu ze dne 29. 5. 2003, čj. 7 A 181/2000-29)\n",
    "\n",
    "Prejudikatura: shodně Soudní judikatura ve věcech správních č. 573/2000.\n",
    "Věc: Ing. Zdeněk A. v P. proti Ministerstvu obrany, o výsluhový příspěvek vojáka z povolání.\n",
    "Žalobce se domáhal zpětného přiznání výsluhového příspěvku podle ustanovení § 165 odst. 8 věta druhá zákona č. 221/1999 Sb., o vojácích z povolání. Vojenský úřad sociálního zabezpečení (dále jen \"VÚSZ\") jeho žádost rozhodnutím ze 14. 1. 2000 zamítl s tím, že ji označil za žádost o obnovu výplaty výsluhového příspěvku, a uvedl, že tak činí i přesto, že žalobce se podrobil dobrovolné reatestaci podle rozkazu ministra obrany č. 015/1990, neboť v době prováděné reatestace nebyl zařazen na funkci ve vojenském obranném zpravodajství.\n",
    "K odvolání žalobce rozhodl žalovaný 4. 3. 2000 tak, že odvolání nevyhověl, a odůvodnění napadeného rozhodnutí VÚSZ změnil tak, že \"po posouzení žádosti bylo zjištěno, že se žalobce nepodrobil dobrovolné reatestaci podle zmiňovaného rozkazu ministra obrany.\". V ostatních částech napadené rozhodnutí potvrdil.\n",
    "Žalobce se domáhal zrušení rozhodnutí správního orgánu včasnou žalobou, kterou podal u Vrchního soudu v Praze; zde řízení nebylo do konce roku 2002 dokončeno, a věc proto převzal k dalšímu řízení Nejvyšší správní soud.\n",
    "Nejvyšší správní soud rozhodnutí Ministerstva obrany zrušil pro vady řízení a věc vrátil žalovanému k dalšímu řízení.\n",
    "\n",
    "Z odůvodnění:\n",
    "Soud přezkoumal napadené rozhodnutí žalovaného včetně řízení, které tomuto rozhodnutí předcházelo, a dospěl k závěru, že rozhodnutí je nepřezkoumatelné pro nesrozumitelnost [§ 76 odst. 1 písm. a) s. ř. s.].\n",
    "Za nesrozumitelné je třeba považovat zejména takové rozhodnutí, z něhož nelze poznat, jak bylo vlastně rozhodnuto. V praxi jde o velmi pestrou škálu hmotněprávních i procesněprávních vad správních aktů, jimž je společné, že z nich nelze spolehlivě zjistit, zda a do jaké míry zasáhly do práv a povinností. Za dané situace soud zdůrazňuje, že v odvolacím řízení umožňuje ustanovení § 59 odst. 2 správního řádu změnit napadené rozhodnutí. Toto ustanovení předpokládá, že jsou-li pro to důvody, odvolací orgán rozhodnutí změní nebo zruší, jinak odvolání zamítne a rozhodnutí potvrdí.\n",
    "Změna správního rozhodnutí je na místě v případě, kdy odlišný závěr odvolacího orgánu má být transponován do výroku napadeného rozhodnutí. Výrok, obsahující toliko změnu odůvodnění, však nemá oporu v zákoně a činí vlastní rozhodnutí nesrozumitelným. Takto koncipované rozhodnutí o odvolání nesplňuje požadavky, jež na ně klade ustanovení § 47 spr. ř., jehož subsidiární použití upravuje ustanovení § 108 zákona ČNR č. 582/1991 Sb., o organizaci a provádění sociálního zabezpečení. Podle přesvědčení soudu je výrok, jímž bylo změněno odůvodnění rozhodnutí správního orgánu I. stupně, natolik nesprávný, že působí nepřezkoumatelnost rozhodnutí jako celku. Proto také soud podle § 78 odst. 1 s. ř. s. rozhodnutí, jež bylo žalobou napadeno, zrušil pro vady řízení.\n",
    "Žalovaný tak bude vázán právním názorem soudu v tom, že nemůže vydat takové rozhodnutí, kterým by ve výrokové části měnil odůvodnění rozhodnutí.\n",
    "\n",
    "\n",
    "(ovo)\n",
    "\"\"\"\n",
    "\n",
    "text = \"\"\"\n",
    "Prejudikatura: shodně Soudní judikatura ve věcech správních č. 573/2000.\n",
    "Věc: Ing. Zdeněk A. v P. proti Ministerstvu obrany, o výsluhový příspěvek vojáka z povolání.\n",
    "Žalobce se domáhal zpětného přiznání výsluhového příspěvku podle ustanovení § 165 odst. 8 věta druhá zákona č. 221/1999 Sb., o vojácích z povolání. Vojenský úřad sociálního zabezpečení (dále jen \"VÚSZ\") jeho žádost rozhodnutím ze 14. 1. 2000 zamítl s tím, že ji označil za žádost o obnovu výplaty výsluhového příspěvku, a uvedl, že tak činí i přesto, že žalobce se podrobil dobrovolné reatestaci podle rozkazu ministra obrany č. 015/1990, neboť v době prováděné reatestace nebyl zařazen na funkci ve vojenském obranném zpravodajství.\n",
    "\n",
    "\"\"\""
   ],
   "id": "5084e64300d0c033",
   "outputs": [],
   "execution_count": 11
  },
  {
   "metadata": {
    "ExecuteTime": {
     "end_time": "2025-03-23T16:14:35.527263Z",
     "start_time": "2025-03-23T16:14:27.534319Z"
    }
   },
   "cell_type": "code",
   "source": "translate(text)",
   "id": "87c08e4297c4af7a",
   "outputs": [
    {
     "data": {
      "text/plain": [
       "'The appeal was brought against the return of the appeal under the second sentence of Section 165 (8) of Law No. 221/1999 Coll., on military service in the profession. The Military Social Security Office (hereinafter \"VSZ\") appealed against the decision of 14 January 2000 Coll., stating that it had requested the renewal of the service, stating that it had not been carried out at the time of the application for the re-establishment of the military service in the period 015/1990.'"
      ]
     },
     "execution_count": 12,
     "metadata": {},
     "output_type": "execute_result"
    }
   ],
   "execution_count": 12
  },
  {
   "metadata": {
    "ExecuteTime": {
     "end_time": "2025-02-16T19:26:43.119163Z",
     "start_time": "2025-02-16T19:26:42.915858Z"
    }
   },
   "cell_type": "code",
   "source": [
    "from googletrans import Translator\n",
    "translator = Translator() # TODO proxy"
   ],
   "id": "2db9b7d1bb405fed",
   "outputs": [],
   "execution_count": 10
  },
  {
   "metadata": {
    "ExecuteTime": {
     "end_time": "2025-02-16T19:28:11.541428Z",
     "start_time": "2025-02-16T19:28:11.467362Z"
    }
   },
   "cell_type": "code",
   "source": "tr = await translator.translate(text, src='cs', dest='en')",
   "id": "2b4354ad17844ea9",
   "outputs": [],
   "execution_count": 15
  },
  {
   "metadata": {
    "ExecuteTime": {
     "end_time": "2025-02-16T19:28:15.994877Z",
     "start_time": "2025-02-16T19:28:15.991602Z"
    }
   },
   "cell_type": "code",
   "source": "tr.text",
   "id": "26e3d89fce4cd5f3",
   "outputs": [
    {
     "data": {
      "text/plain": [
       "'Prejudicature: The same judicial case law in administrative matters No. 573/2000.\\nThing: Ing. Zdeněk A. in P. against the Ministry of Defense, on the retirement contribution of a professional soldier.\\nThe plaintiff sought the re -grant of the retirement contribution pursuant to Section 165 (8), second sentence of Act No. 221/1999 Coll., On professional soldiers. The Social Security Military Office (hereinafter referred to as \"VÚSZ\") rejected his request by decision of 14. 2000, saying that he described it as an application for the renewal of the payment of the service allowance and stated that he did so despite the fact that the plaintiff had a voluntary retestation According to the Defense Minister\\'s order No. 015/1990, since at the time of the retestation he was not included in the function in military defense news.'"
      ]
     },
     "execution_count": 17,
     "metadata": {},
     "output_type": "execute_result"
    }
   ],
   "execution_count": 17
  },
  {
   "metadata": {},
   "cell_type": "code",
   "outputs": [],
   "execution_count": null,
   "source": "",
   "id": "6aa444bc7d83f5f8"
  }
 ],
 "metadata": {
  "kernelspec": {
   "display_name": "Python 3",
   "language": "python",
   "name": "python3"
  },
  "language_info": {
   "codemirror_mode": {
    "name": "ipython",
    "version": 2
   },
   "file_extension": ".py",
   "mimetype": "text/x-python",
   "name": "python",
   "nbconvert_exporter": "python",
   "pygments_lexer": "ipython2",
   "version": "2.7.6"
  }
 },
 "nbformat": 4,
 "nbformat_minor": 5
}
