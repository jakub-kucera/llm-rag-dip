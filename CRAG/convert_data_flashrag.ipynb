{
 "cells": [
  {
   "metadata": {
    "ExecuteTime": {
     "end_time": "2025-03-26T12:12:07.457056Z",
     "start_time": "2025-03-26T12:12:07.424583Z"
    }
   },
   "cell_type": "code",
   "source": [
    "dataset_path = \"data/crag_task_1_and_2_dev_v4.jsonl.bz2\"\n",
    "# dataset_path = \"data/crag_task_3_dev_v4.tar.bz2\""
   ],
   "id": "95b411efbf16e24",
   "outputs": [],
   "execution_count": 44
  },
  {
   "metadata": {
    "ExecuteTime": {
     "end_time": "2025-03-26T12:12:07.948806Z",
     "start_time": "2025-03-26T12:12:07.941345Z"
    }
   },
   "cell_type": "code",
   "source": [
    "# import tarfile\n",
    "# import json\n",
    "# import io\n",
    "#\n",
    "# with tarfile.open(dataset_path, 'r:bz2') as tar:\n",
    "#     for member in tar.getmembers():\n",
    "#         if member.name.endswith('.jsonl'):\n",
    "#             f = tar.extractfile(member)\n",
    "#             if f:\n",
    "#                 # Use a buffered reader for efficiency\n",
    "#                 reader = io.TextIOWrapper(f, encoding='utf-8')\n",
    "#                 for line in reader:\n",
    "#                     json_obj = json.loads(line)\n",
    "#                     # Process your JSON object\n",
    "#                     print(json_obj)  # Example: print each object\n",
    "#                     break"
   ],
   "id": "1dccfc9e3225afdb",
   "outputs": [],
   "execution_count": 45
  },
  {
   "cell_type": "code",
   "id": "initial_id",
   "metadata": {
    "collapsed": true,
    "ExecuteTime": {
     "end_time": "2025-03-26T12:14:00.205519Z",
     "start_time": "2025-03-26T12:12:31.667541Z"
    }
   },
   "source": [
    "import json\n",
    "import bz2\n",
    "\n",
    "questions = []\n",
    "search_results = {}\n",
    "duplicate_count = 0\n",
    "\n",
    "with bz2.open(dataset_path, \"rt\") as file:\n",
    "    i = 0\n",
    "    for line in file:\n",
    "        j_line = json.loads(line)\n",
    "        # print(j_line.keys())\n",
    "        # break\n",
    "        questions.append({\n",
    "            \"id\": j_line['interaction_id'],\n",
    "            \"question\": j_line['query'],\n",
    "            \"golden_answers\": [str(j_line['answer'])],\n",
    "            \"alt_ans\": j_line['alt_ans'],\n",
    "            \"metadata\": {\n",
    "                \"query_time\": j_line['query_time'],\n",
    "                \"domain\": j_line['domain'],\n",
    "                \"question_type\": j_line['question_type'],\n",
    "                \"static_or_dynamic\": j_line['static_or_dynamic'],\n",
    "                \"alt_ans\": j_line['alt_ans'],\n",
    "            }\n",
    "        })\n",
    "        for search_result in j_line['search_results']:\n",
    "            # print(search_result.keys())\n",
    "            # search_results.add(search_result)\n",
    "            hsh = hash(frozenset(search_result.items()))\n",
    "            if hsh in search_results:\n",
    "                duplicate_count += 1\n",
    "            else:\n",
    "                search_results[hsh] = search_result\n",
    "        # break\n",
    "        # print(j_line.keys())\n",
    "        # print(\"j_line\")\n",
    "        # print(j_line['query'])\n",
    "        # for k, v in j_line.items():\n",
    "        #     print(f\"{k}: {v}\")\n",
    "        #     break\n",
    "        # break\n",
    "        # if i > 5:\n",
    "        #     break\n",
    "        # i += 1\n",
    "    # data = json.load(file)"
   ],
   "outputs": [],
   "execution_count": 46
  },
  {
   "metadata": {
    "ExecuteTime": {
     "end_time": "2025-03-26T12:14:00.267963Z",
     "start_time": "2025-03-26T12:14:00.258812Z"
    }
   },
   "cell_type": "code",
   "source": "len(questions)",
   "id": "971fa4c472560fb9",
   "outputs": [
    {
     "data": {
      "text/plain": [
       "2706"
      ]
     },
     "execution_count": 47,
     "metadata": {},
     "output_type": "execute_result"
    }
   ],
   "execution_count": 47
  },
  {
   "metadata": {
    "ExecuteTime": {
     "end_time": "2025-03-26T12:14:00.350606Z",
     "start_time": "2025-03-26T12:14:00.347595Z"
    }
   },
   "cell_type": "code",
   "source": "len(search_results)",
   "id": "9b1ccfd94995682a",
   "outputs": [
    {
     "data": {
      "text/plain": [
       "10713"
      ]
     },
     "execution_count": 48,
     "metadata": {},
     "output_type": "execute_result"
    }
   ],
   "execution_count": 48
  },
  {
   "metadata": {
    "ExecuteTime": {
     "end_time": "2025-03-26T12:14:00.428352Z",
     "start_time": "2025-03-26T12:14:00.424912Z"
    }
   },
   "cell_type": "code",
   "source": "duplicate_count",
   "id": "7c3ae1e0c4f83652",
   "outputs": [
    {
     "data": {
      "text/plain": [
       "2817"
      ]
     },
     "execution_count": 49,
     "metadata": {},
     "output_type": "execute_result"
    }
   ],
   "execution_count": 49
  },
  {
   "metadata": {
    "ExecuteTime": {
     "end_time": "2025-03-26T12:14:00.508150Z",
     "start_time": "2025-03-26T12:14:00.493009Z"
    }
   },
   "cell_type": "code",
   "source": [
    "# save questions\n",
    "with open(\"flashrag_format_data/flashrag_crag_questions_str.jsonl\", \"w\") as f:\n",
    "    for question in questions:\n",
    "        f.write(json.dumps(question) + \"\\n\")"
   ],
   "id": "af6b51cf9aaea97f",
   "outputs": [],
   "execution_count": 50
  },
  {
   "metadata": {
    "ExecuteTime": {
     "end_time": "2025-03-25T14:59:33.389924Z",
     "start_time": "2025-03-25T14:59:33.388047Z"
    }
   },
   "cell_type": "code",
   "source": [
    "corpus_example_row = {\n",
    "    \"id\": 38,\n",
    "    \"title\": \"What is the smallest mammal?\",\n",
    "    \"contents\": \"\"\n",
    "}"
   ],
   "id": "c66db72fa78e9390",
   "outputs": [],
   "execution_count": 8
  },
  {
   "metadata": {
    "ExecuteTime": {
     "end_time": "2025-03-25T15:02:38.789012Z",
     "start_time": "2025-03-25T15:02:38.785243Z"
    }
   },
   "cell_type": "code",
   "source": [
    "# show single search result dictionary\n",
    "page = search_results[7244461135126064771]\n",
    "page_name = page['page_name']\n",
    "page_url = page['page_url']\n",
    "page_html = page['page_result']\n",
    "page.keys()"
   ],
   "id": "e7505725652f1b2b",
   "outputs": [
    {
     "data": {
      "text/plain": [
       "dict_keys(['page_name', 'page_url', 'page_snippet', 'page_result', 'page_last_modified'])"
      ]
     },
     "execution_count": 19,
     "metadata": {},
     "output_type": "execute_result"
    }
   ],
   "execution_count": 19
  },
  {
   "metadata": {
    "ExecuteTime": {
     "end_time": "2025-03-25T16:18:36.923702Z",
     "start_time": "2025-03-25T16:18:36.910143Z"
    }
   },
   "cell_type": "code",
   "source": [
    "from bs4 import BeautifulSoup\n",
    "\n",
    "soup = BeautifulSoup(page_html, \"lxml\")\n",
    "text = soup.get_text(\" \", strip=True)  # Use space as a separator, strip whitespaces"
   ],
   "id": "c5e27707ac1c2e6d",
   "outputs": [],
   "execution_count": 34
  },
  {
   "metadata": {
    "ExecuteTime": {
     "end_time": "2025-03-25T15:56:03.293191Z",
     "start_time": "2025-03-25T15:56:03.288554Z"
    }
   },
   "cell_type": "code",
   "source": [
    "# print(text)\n",
    "text"
   ],
   "id": "6d58c7ed5d0b1571",
   "outputs": [
    {
     "data": {
      "text/plain": [
       "\"Travel + Leisure Co. (TNL) Dividend Date & History | Koyfin Skip to Content Product Features Data Coverage Data Coverage Use Cases Independent Investors Financial Advisors Traders Research Analyst Sales Students Enterprise Schools Pricing Sign Up for Free Log In Log In Sign Up for Free TNL Travel + Leisure Co. Travel + Leisure Co. TNL NYSE $44.87 USD 0.19 0.43% Market Cap $3,187.19M Forward P/E 8.4x Volume 416,329 Total Return (3M) 21.95% Travel + Leisure Co. ( TNL ) Dividend Date & History Sign Up for Free Dividend Data Travel + Leisure Co.’s ( TNL ) dividend yield is 4.46%, which means that for every\\n        $100 invested in the company's stock, investors would receive $4.46 in dividends per year. Travel + Leisure Co.’s payout ratio is 34.34% which means that 34.34% of the company's\\n        earnings are paid out as dividends. A low payout ratio may indicate that the company has a strong financial position\\n        and can invest in growth opportunities, while a high payout ratio may indicate that the company is returning most\\n        of its earnings to shareholders. TNL ’s annual dividend is $2.00 per share. This is\\n        the total amount of dividends paid out to shareholders in a year. Travel + Leisure Co.’s ( TNL ) ex-dividend date is December 14, 2023 , which means that buyers purchasing shares on or after that date will not be eligible to receive the next dividend payment. Travel + Leisure Co. ( TNL ) pays dividends on a quarterly basis.\\n          \\n          \\n              Travel + Leisure Co. ( TNL ) has increased its dividends for 4 \\n              consecutive years. This is a positive sign of the company's financial stability and its ability to pay\\n              consistent dividends in the future. Dividend Yield 4.46% Annual Dividend $2.00 Ex Dividend Date Dec 14, 2023 Dividend Growth 12.50% Payout Ratio 34.34% Payout Period Quarterly Next Div Payment TBA Cons. Yrs Growth 4 Dividend History and Growth Travel + Leisure Co. ( TNL ) dividend payments per share are an average of 12.50% over the past 12 months, 4.00% over the past 36 months, -0.97% over the past 60 months, and 4.49% over the past 120 months. It is important to note that TNL ’s dividend history and growth can be affected by many factors, such\\n        as profitability, cash flow, and financial stability, as well as its growth prospects and dividend payout policies. Add TNL to your watchlist to be aware of any updates. Dividend Growth Table 1Y 3Y 5Y 10Y Annualized Growth % 12.50% 4.00% -0.97% 4.49% Dividend Growth Graph Open in Koyfin View Interactive Chart Dividend Yield TNL dividend yield graph is a visual representation of Travel + Leisure Co.’s dividend yield over the last 12 months. This is useful for investors to understand TNL ’s historical dividend yield and to identify any trends\\n        or patterns in the company's dividend payments over time. Dividend Yield Chart Open in Koyfin View Interactive Chart Shareholder Yield Shareholder yield is a metric that measures the total return to shareholders through dividends, buybacks, and debt\\n        paydown. It is a ratio that compares the cash returned to shareholders over a period of time to the market\\n        capitalization of the company. Travel + Leisure Co. ( TNL ) shareholder yield graph below includes indicators for dividends, buybacks, and\\n        debt paydown, which allows investors to see how each component contributes to the overall shareholder yield. It's important to note that shareholder yield is just one metric among many that investors may use to evaluate a\\n        company's financial health and its potential for future growth. It should be considered in conjunction with other\\n        financial metrics such as earnings, revenue, and debt levels to get a comprehensive understanding of a company's\\n        financial position. Shareholder Yield Chart Open in Koyfin View Interactive Chart Dividend Safety Dividend safety refers to the ability of a company to continue paying its dividends to shareholders without\\n        interruption or reduction. A company with a high level of dividend safety is generally considered to have a strong\\n        financial position, with a consistent history of paying dividends and a low risk of default. Some specific indicators often used to assess Travel + Leisure Co. ( TNL ) dividend safety include Dividend payment history: TNL has a  history of paying dividends and has consistently increased its dividend\\n            payout for 4 consecutive years. Dividend payout ratio: A low payout ratio, typically less than 60%, indicates that a company has enough earnings to pay dividends and retain earnings to reinvest in the business. Travel + Leisure Co.’s payout ratio is about 34.34% It is worth noting that Dividend safety can change over time, and a company that was considered to have a high level\\n        of dividend safety in the past may no longer be considered safe today. Therefore, it is important to regularly\\n        monitor a company's financial performance and dividend payment history. Dividend Safety Graph Open in Koyfin View Interactive Chart Comparing Travel + Leisure Co. to Other Stock The percentile ranks table is a way to compare Travel + Leisure Co. ( TNL ) dividend yield relative to its\\n        sector, country, and the world. Dividend yield: TNL ’s latest value of 4.46% is the percentage of the current stock price that\\n      is paid out as dividends to shareholders. The relative to the sector, country, and world values (0.84, 0.72, and 0.76 respectively) indicate\\n      Travel + Leisure Co.’s dividend yield compared to others in its sector, country, and world. For example, a value of 0.72\\n      relative to country means that Travel + Leisure Co.’s dividend yield is higher than 72% of companies in its country. This table allows investors to quickly compare a company's dividend metrics to its peers in the sector, country, and\\n        the world, and evaluate its relative stability and growth potential. Percentile Ranks Table latest value relative to sector relative to country relative to world Dividend Yield 4.46% 0.84 0.72 0.76 Dividend FAQ Does Travel + Leisure Co. pay dividends? Travel + Leisure Co. ( TNL ) pays dividends to its shareholders. How much is Travel + Leisure Co.’s dividend? Travel + Leisure Co.'s ( TNL ) quarterly dividend per share was $0.45 as of December 29, 2023 . When is Travel + Leisure Co.’s ex-dividend date? Travel + Leisure Co.’s latest ex-dividend date was on December 14, 2023 . The TNL stock shareholders received the last dividend payment of $0.45 per share on December 29, 2023 . When is Travel + Leisure Co.’s next dividend payment date? Travel + Leisure Co.’s next dividend payment has not been announced at this time. Does Travel + Leisure Co. have sufficient earnings to cover its dividends? Travel + Leisure Co. ( TNL ) has a moderate payout ratio of 34.34%, which may indicate a balance between reinvesting earnings and rewarding shareholders with dividends, seen as sustainable for future growth and reasonable dividend yield. Related Tickers Hyatt Hotels Corporation ( H ) Marriott Vacations Worldwide Corporation ( VAC ) Hilton Worldwide Holdings Inc. ( HLT ) Marriott International, Inc. ( MAR ) Wyndham Hotels & Resorts, Inc. ( WH ) Choice Hotels International, Inc. ( CHH ) Great investments start with great insight. Save time, gain insight and revolutionize the way you invest. Get started today. Get started Resources Help Center Koyfin Academy Compare Yahoo Finance Morningstar Bloomberg Google Finance Finviz Ycharts Atom Finance Trading View Sentieo Factset Company About Us Careers Resources Help Center Koyfin Academy Compare Yahoo Finance Morningstar Bloomberg Google Finance Finviz Ycharts Atom Finance Trading View Sentieo Factset Company About Us Careers Follow Twitter Youtube Instagram Facebook Twitter Youtube Instagram Facebook © 2024 Koyfin Inc. Privacy Terms of Service\""
      ]
     },
     "execution_count": 28,
     "metadata": {},
     "output_type": "execute_result"
    }
   ],
   "execution_count": 28
  },
  {
   "metadata": {
    "ExecuteTime": {
     "end_time": "2025-03-25T15:06:58.757961Z",
     "start_time": "2025-03-25T15:06:58.546278Z"
    }
   },
   "cell_type": "code",
   "source": "from blingfire import text_to_sentences_and_offsets",
   "id": "d98ad0120be0395e",
   "outputs": [
    {
     "ename": "OSError",
     "evalue": "dlopen(/Users/jakubkucera-sch/Documents/diplomka/CRAG_v4dev/.venv/lib/python3.11/site-packages/blingfire/libblingfiretokdll.dylib, 0x0006): tried: '/Users/jakubkucera-sch/Documents/diplomka/CRAG_v4dev/.venv/lib/python3.11/site-packages/blingfire/libblingfiretokdll.dylib' (mach-o file, but is an incompatible architecture (have 'x86_64', need 'arm64e' or 'arm64')), '/System/Volumes/Preboot/Cryptexes/OS/Users/jakubkucera-sch/Documents/diplomka/CRAG_v4dev/.venv/lib/python3.11/site-packages/blingfire/libblingfiretokdll.dylib' (no such file), '/Users/jakubkucera-sch/Documents/diplomka/CRAG_v4dev/.venv/lib/python3.11/site-packages/blingfire/libblingfiretokdll.dylib' (mach-o file, but is an incompatible architecture (have 'x86_64', need 'arm64e' or 'arm64'))",
     "output_type": "error",
     "traceback": [
      "\u001B[0;31m---------------------------------------------------------------------------\u001B[0m",
      "\u001B[0;31mOSError\u001B[0m                                   Traceback (most recent call last)",
      "Cell \u001B[0;32mIn[22], line 1\u001B[0m\n\u001B[0;32m----> 1\u001B[0m \u001B[38;5;28;01mfrom\u001B[39;00m \u001B[38;5;21;01mblingfire\u001B[39;00m \u001B[38;5;28;01mimport\u001B[39;00m text_to_sentences_and_offsets\n",
      "File \u001B[0;32m~/Documents/diplomka/CRAG_v4dev/.venv/lib/python3.11/site-packages/blingfire/__init__.py:19\u001B[0m\n\u001B[1;32m     17\u001B[0m \u001B[38;5;66;03m# detect Mac OSX\u001B[39;00m\n\u001B[1;32m     18\u001B[0m \u001B[38;5;28;01melif\u001B[39;00m platform\u001B[38;5;241m.\u001B[39msystem() \u001B[38;5;241m==\u001B[39m \u001B[38;5;124m\"\u001B[39m\u001B[38;5;124mDarwin\u001B[39m\u001B[38;5;124m\"\u001B[39m:\n\u001B[0;32m---> 19\u001B[0m     blingfire \u001B[38;5;241m=\u001B[39m \u001B[43mcdll\u001B[49m\u001B[38;5;241;43m.\u001B[39;49m\u001B[43mLoadLibrary\u001B[49m\u001B[43m(\u001B[49m\u001B[43mos\u001B[49m\u001B[38;5;241;43m.\u001B[39;49m\u001B[43mpath\u001B[49m\u001B[38;5;241;43m.\u001B[39;49m\u001B[43mjoin\u001B[49m\u001B[43m(\u001B[49m\u001B[43mpath\u001B[49m\u001B[43m,\u001B[49m\u001B[43m \u001B[49m\u001B[38;5;124;43m\"\u001B[39;49m\u001B[38;5;124;43mlibblingfiretokdll.dylib\u001B[39;49m\u001B[38;5;124;43m\"\u001B[39;49m\u001B[43m)\u001B[49m\u001B[43m)\u001B[49m\n\u001B[1;32m     20\u001B[0m \u001B[38;5;28;01melse\u001B[39;00m:\n\u001B[1;32m     21\u001B[0m \u001B[38;5;66;03m# detect linux\u001B[39;00m\n\u001B[1;32m     22\u001B[0m     blingfire \u001B[38;5;241m=\u001B[39m cdll\u001B[38;5;241m.\u001B[39mLoadLibrary(os\u001B[38;5;241m.\u001B[39mpath\u001B[38;5;241m.\u001B[39mjoin(path, \u001B[38;5;124m\"\u001B[39m\u001B[38;5;124mlibblingfiretokdll.so\u001B[39m\u001B[38;5;124m\"\u001B[39m))\n",
      "File \u001B[0;32m~/.pyenv/versions/3.11.2/lib/python3.11/ctypes/__init__.py:454\u001B[0m, in \u001B[0;36mLibraryLoader.LoadLibrary\u001B[0;34m(self, name)\u001B[0m\n\u001B[1;32m    453\u001B[0m \u001B[38;5;28;01mdef\u001B[39;00m \u001B[38;5;21mLoadLibrary\u001B[39m(\u001B[38;5;28mself\u001B[39m, name):\n\u001B[0;32m--> 454\u001B[0m     \u001B[38;5;28;01mreturn\u001B[39;00m \u001B[38;5;28;43mself\u001B[39;49m\u001B[38;5;241;43m.\u001B[39;49m\u001B[43m_dlltype\u001B[49m\u001B[43m(\u001B[49m\u001B[43mname\u001B[49m\u001B[43m)\u001B[49m\n",
      "File \u001B[0;32m~/.pyenv/versions/3.11.2/lib/python3.11/ctypes/__init__.py:376\u001B[0m, in \u001B[0;36mCDLL.__init__\u001B[0;34m(self, name, mode, handle, use_errno, use_last_error, winmode)\u001B[0m\n\u001B[1;32m    373\u001B[0m \u001B[38;5;28mself\u001B[39m\u001B[38;5;241m.\u001B[39m_FuncPtr \u001B[38;5;241m=\u001B[39m _FuncPtr\n\u001B[1;32m    375\u001B[0m \u001B[38;5;28;01mif\u001B[39;00m handle \u001B[38;5;129;01mis\u001B[39;00m \u001B[38;5;28;01mNone\u001B[39;00m:\n\u001B[0;32m--> 376\u001B[0m     \u001B[38;5;28mself\u001B[39m\u001B[38;5;241m.\u001B[39m_handle \u001B[38;5;241m=\u001B[39m \u001B[43m_dlopen\u001B[49m\u001B[43m(\u001B[49m\u001B[38;5;28;43mself\u001B[39;49m\u001B[38;5;241;43m.\u001B[39;49m\u001B[43m_name\u001B[49m\u001B[43m,\u001B[49m\u001B[43m \u001B[49m\u001B[43mmode\u001B[49m\u001B[43m)\u001B[49m\n\u001B[1;32m    377\u001B[0m \u001B[38;5;28;01melse\u001B[39;00m:\n\u001B[1;32m    378\u001B[0m     \u001B[38;5;28mself\u001B[39m\u001B[38;5;241m.\u001B[39m_handle \u001B[38;5;241m=\u001B[39m handle\n",
      "\u001B[0;31mOSError\u001B[0m: dlopen(/Users/jakubkucera-sch/Documents/diplomka/CRAG_v4dev/.venv/lib/python3.11/site-packages/blingfire/libblingfiretokdll.dylib, 0x0006): tried: '/Users/jakubkucera-sch/Documents/diplomka/CRAG_v4dev/.venv/lib/python3.11/site-packages/blingfire/libblingfiretokdll.dylib' (mach-o file, but is an incompatible architecture (have 'x86_64', need 'arm64e' or 'arm64')), '/System/Volumes/Preboot/Cryptexes/OS/Users/jakubkucera-sch/Documents/diplomka/CRAG_v4dev/.venv/lib/python3.11/site-packages/blingfire/libblingfiretokdll.dylib' (no such file), '/Users/jakubkucera-sch/Documents/diplomka/CRAG_v4dev/.venv/lib/python3.11/site-packages/blingfire/libblingfiretokdll.dylib' (mach-o file, but is an incompatible architecture (have 'x86_64', need 'arm64e' or 'arm64'))"
     ]
    }
   ],
   "execution_count": 22
  },
  {
   "metadata": {
    "ExecuteTime": {
     "end_time": "2025-03-25T16:18:16.218474Z",
     "start_time": "2025-03-25T16:18:15.681319Z"
    }
   },
   "cell_type": "code",
   "source": [
    "# import nltk\n",
    "# nltk.download('punkt_tab')"
   ],
   "id": "8ef07838d3ef3b9f",
   "outputs": [
    {
     "name": "stderr",
     "output_type": "stream",
     "text": [
      "[nltk_data] Downloading package punkt_tab to /Users/jakubkucera-\n",
      "[nltk_data]     sch/nltk_data...\n",
      "[nltk_data]   Unzipping tokenizers/punkt_tab.zip.\n"
     ]
    },
    {
     "data": {
      "text/plain": [
       "True"
      ]
     },
     "execution_count": 31,
     "metadata": {},
     "output_type": "execute_result"
    }
   ],
   "execution_count": 31
  },
  {
   "metadata": {
    "ExecuteTime": {
     "end_time": "2025-03-25T16:18:40.273858Z",
     "start_time": "2025-03-25T16:18:40.271291Z"
    }
   },
   "cell_type": "code",
   "source": [
    "from nltk.tokenize import sent_tokenize\n",
    "# text = \"Hello world. This is a test.\"\n",
    "sentences = sent_tokenize(text)\n",
    "# [\"Hello world.\", \"This is a test.\"]"
   ],
   "id": "640ec218d8fd0fde",
   "outputs": [],
   "execution_count": 35
  },
  {
   "metadata": {
    "ExecuteTime": {
     "end_time": "2025-03-25T16:21:30.955708Z",
     "start_time": "2025-03-25T16:21:30.950902Z"
    }
   },
   "cell_type": "code",
   "source": "len(sentences)",
   "id": "aeb2c593081c34a6",
   "outputs": [
    {
     "data": {
      "text/plain": [
       "46"
      ]
     },
     "execution_count": 37,
     "metadata": {},
     "output_type": "execute_result"
    }
   ],
   "execution_count": 37
  },
  {
   "metadata": {
    "ExecuteTime": {
     "end_time": "2025-03-25T16:21:41.129916Z",
     "start_time": "2025-03-25T16:21:41.127271Z"
    }
   },
   "cell_type": "code",
   "source": "len(text)",
   "id": "942f2b83ece57bf1",
   "outputs": [
    {
     "data": {
      "text/plain": [
       "7911"
      ]
     },
     "execution_count": 38,
     "metadata": {},
     "output_type": "execute_result"
    }
   ],
   "execution_count": 38
  },
  {
   "metadata": {
    "ExecuteTime": {
     "end_time": "2025-03-25T16:27:35.216522Z",
     "start_time": "2025-03-25T16:27:35.211956Z"
    }
   },
   "cell_type": "code",
   "source": [
    "unchunked_corpus = []\n",
    "chunked_corpus = []"
   ],
   "id": "185657317a3fe55e",
   "outputs": [],
   "execution_count": 40
  },
  {
   "metadata": {
    "ExecuteTime": {
     "end_time": "2025-03-25T16:34:25.777239Z",
     "start_time": "2025-03-25T16:28:18.423345Z"
    }
   },
   "cell_type": "code",
   "source": [
    "global_counter = 0\n",
    "for c, search_result in enumerate(search_results.values()):\n",
    "    page_html = search_result['page_result']\n",
    "    soup = BeautifulSoup(page_html, \"lxml\")\n",
    "    text = soup.get_text(\" \", strip=True)  # Use space as a separator, strip whitespaces\n",
    "    unchunked_corpus.append({\n",
    "        \"id\": c,\n",
    "        \"title\": search_result['page_name'],\n",
    "        \"contents\": text\n",
    "    })\n",
    "    sentences = sent_tokenize(text)\n",
    "    for sentence in sentences:\n",
    "        chunked_corpus.append({\n",
    "            \"id\": global_counter,\n",
    "            \"title\": search_result['page_name'],\n",
    "            \"contents\": sentence\n",
    "        })\n",
    "        global_counter += 1"
   ],
   "id": "dd9fd31c562b5193",
   "outputs": [
    {
     "name": "stderr",
     "output_type": "stream",
     "text": [
      "/var/folders/gm/6zjcwbd164d1v4gmx73009pr0000gp/T/ipykernel_50619/2361309978.py:4: XMLParsedAsHTMLWarning: It looks like you're parsing an XML document using an HTML parser. If this really is an HTML document (maybe it's XHTML?), you can ignore or filter this warning. If it's XML, you should know that using an XML parser will be more reliable. To parse this document as XML, make sure you have the lxml package installed, and pass the keyword argument `features=\"xml\"` into the BeautifulSoup constructor.\n",
      "  soup = BeautifulSoup(page_html, \"lxml\")\n"
     ]
    }
   ],
   "execution_count": 41
  },
  {
   "metadata": {
    "ExecuteTime": {
     "end_time": "2025-03-25T16:34:26.943688Z",
     "start_time": "2025-03-25T16:34:25.812138Z"
    }
   },
   "cell_type": "code",
   "source": [
    "with open(\"flashrag_format_data/flashrag_crag_unchunked_corpus.jsonl\", \"w\") as f:\n",
    "    for item in unchunked_corpus:\n",
    "        f.write(json.dumps(item) + \"\\n\")"
   ],
   "id": "235289184e716f06",
   "outputs": [],
   "execution_count": 42
  },
  {
   "metadata": {
    "ExecuteTime": {
     "end_time": "2025-03-25T16:34:30.273420Z",
     "start_time": "2025-03-25T16:34:26.947282Z"
    }
   },
   "cell_type": "code",
   "source": [
    "with open(\"flashrag_format_data/flashrag_crag_chunked_corpus.jsonl\", \"w\") as f:\n",
    "    for item in chunked_corpus:\n",
    "        f.write(json.dumps(item) + \"\\n\")"
   ],
   "id": "b840ec313bf0ec7f",
   "outputs": [],
   "execution_count": 43
  },
  {
   "metadata": {},
   "cell_type": "code",
   "outputs": [],
   "execution_count": null,
   "source": "",
   "id": "5f3dadc56bcd2871"
  }
 ],
 "metadata": {
  "kernelspec": {
   "display_name": "Python 3",
   "language": "python",
   "name": "python3"
  },
  "language_info": {
   "codemirror_mode": {
    "name": "ipython",
    "version": 2
   },
   "file_extension": ".py",
   "mimetype": "text/x-python",
   "name": "python",
   "nbconvert_exporter": "python",
   "pygments_lexer": "ipython2",
   "version": "2.7.6"
  }
 },
 "nbformat": 4,
 "nbformat_minor": 5
}
