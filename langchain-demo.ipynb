{
 "cells": [
  {
   "metadata": {
    "ExecuteTime": {
     "end_time": "2024-06-02T16:28:40.368908Z",
     "start_time": "2024-06-02T16:28:40.365320Z"
    }
   },
   "cell_type": "code",
   "source": [
    "import getpass\n",
    "import os\n",
    "\n",
    "from langchain import hub\n",
    "from langchain_chroma import Chroma\n",
    "from langchain_community.document_loaders import PyPDFLoader, PyMuPDFLoader\n",
    "from langchain_community.embeddings import GPT4AllEmbeddings, HuggingFaceEmbeddings, OllamaEmbeddings\n",
    "from langchain_community.llms.ollama import Ollama\n",
    "from langchain_core.output_parsers import StrOutputParser\n",
    "from langchain_core.runnables import RunnablePassthrough\n",
    "from langchain_text_splitters import RecursiveCharacterTextSplitter\n"
   ],
   "id": "e2f0ea53102aedb6",
   "outputs": [],
   "execution_count": 57
  },
  {
   "metadata": {
    "ExecuteTime": {
     "end_time": "2024-06-02T15:42:20.534479Z",
     "start_time": "2024-06-02T15:42:20.526600Z"
    }
   },
   "cell_type": "code",
   "source": [
    "os.environ[\"LANGCHAIN_TRACING_V2\"] = \"true\"\n",
    "os.environ[\"LANGCHAIN_API_KEY\"] = getpass.getpass()"
   ],
   "id": "72862c7cbb4f6f01",
   "outputs": [],
   "execution_count": 27
  },
  {
   "cell_type": "code",
   "id": "initial_id",
   "metadata": {
    "collapsed": true,
    "ExecuteTime": {
     "end_time": "2024-06-02T15:28:03.539292Z",
     "start_time": "2024-06-02T15:28:03.537109Z"
    }
   },
   "source": "DOCUMENT_PATH = \"../kirsch_book.pdf\"",
   "outputs": [],
   "execution_count": 3
  },
  {
   "metadata": {
    "ExecuteTime": {
     "end_time": "2024-06-02T15:34:08.392448Z",
     "start_time": "2024-06-02T15:34:08.370564Z"
    }
   },
   "cell_type": "code",
   "source": "llm = Ollama(model=\"llama3\")",
   "id": "961e2b6e37dc89f8",
   "outputs": [],
   "execution_count": 18
  },
  {
   "metadata": {
    "ExecuteTime": {
     "end_time": "2024-06-02T15:42:57.591949Z",
     "start_time": "2024-06-02T15:42:57.589299Z"
    }
   },
   "cell_type": "code",
   "source": "embedding_model = OllamaEmbeddings(model=\"llama3\")",
   "id": "c99cc203fb7a64e4",
   "outputs": [],
   "execution_count": 30
  },
  {
   "metadata": {
    "ExecuteTime": {
     "end_time": "2024-06-02T15:40:16.931365Z",
     "start_time": "2024-06-02T15:40:05.396481Z"
    }
   },
   "cell_type": "code",
   "source": [
    "# model_name = \"sentence-transformers/all-mpnet-base-v2\"\n",
    "# model_kwargs = {'device': 'cpu'}\n",
    "# encode_kwargs = {'normalize_embeddings': False}\n",
    "# embedding_model = HuggingFaceEmbeddings(\n",
    "#     model_name=model_name,\n",
    "#     model_kwargs=model_kwargs,\n",
    "#     encode_kwargs=encode_kwargs\n",
    "# )"
   ],
   "id": "f4346fab5b9c4d94",
   "outputs": [
    {
     "data": {
      "text/plain": [
       "modules.json:   0%|          | 0.00/349 [00:00<?, ?B/s]"
      ],
      "application/vnd.jupyter.widget-view+json": {
       "version_major": 2,
       "version_minor": 0,
       "model_id": "57aed6946fb54ef6a7aa3456a7feb9f4"
      }
     },
     "metadata": {},
     "output_type": "display_data"
    },
    {
     "data": {
      "text/plain": [
       "config_sentence_transformers.json:   0%|          | 0.00/116 [00:00<?, ?B/s]"
      ],
      "application/vnd.jupyter.widget-view+json": {
       "version_major": 2,
       "version_minor": 0,
       "model_id": "eb7000d0f4e843d3b94ab8c56a4aaa04"
      }
     },
     "metadata": {},
     "output_type": "display_data"
    },
    {
     "data": {
      "text/plain": [
       "README.md:   0%|          | 0.00/10.6k [00:00<?, ?B/s]"
      ],
      "application/vnd.jupyter.widget-view+json": {
       "version_major": 2,
       "version_minor": 0,
       "model_id": "705f07f8cbed494b9cceeeed2f219593"
      }
     },
     "metadata": {},
     "output_type": "display_data"
    },
    {
     "data": {
      "text/plain": [
       "sentence_bert_config.json:   0%|          | 0.00/53.0 [00:00<?, ?B/s]"
      ],
      "application/vnd.jupyter.widget-view+json": {
       "version_major": 2,
       "version_minor": 0,
       "model_id": "5e0d433b938f4879bde985ba798adbe4"
      }
     },
     "metadata": {},
     "output_type": "display_data"
    },
    {
     "name": "stderr",
     "output_type": "stream",
     "text": [
      "/Users/jakubkucera_1/Documents/diplomka/llm-rag-dip/.venv/lib/python3.12/site-packages/huggingface_hub/file_download.py:1132: FutureWarning: `resume_download` is deprecated and will be removed in version 1.0.0. Downloads always resume when possible. If you want to force a new download, use `force_download=True`.\n",
      "  warnings.warn(\n"
     ]
    },
    {
     "data": {
      "text/plain": [
       "config.json:   0%|          | 0.00/571 [00:00<?, ?B/s]"
      ],
      "application/vnd.jupyter.widget-view+json": {
       "version_major": 2,
       "version_minor": 0,
       "model_id": "0b21af8d5ec04db383a34650bbf11d2c"
      }
     },
     "metadata": {},
     "output_type": "display_data"
    },
    {
     "data": {
      "text/plain": [
       "model.safetensors:   0%|          | 0.00/438M [00:00<?, ?B/s]"
      ],
      "application/vnd.jupyter.widget-view+json": {
       "version_major": 2,
       "version_minor": 0,
       "model_id": "729b65477ea14c49b23a5f1b50ff33f6"
      }
     },
     "metadata": {},
     "output_type": "display_data"
    },
    {
     "data": {
      "text/plain": [
       "tokenizer_config.json:   0%|          | 0.00/363 [00:00<?, ?B/s]"
      ],
      "application/vnd.jupyter.widget-view+json": {
       "version_major": 2,
       "version_minor": 0,
       "model_id": "8ed30ed70e2a4836a54bcaeb0b7bc5c8"
      }
     },
     "metadata": {},
     "output_type": "display_data"
    },
    {
     "data": {
      "text/plain": [
       "vocab.txt:   0%|          | 0.00/232k [00:00<?, ?B/s]"
      ],
      "application/vnd.jupyter.widget-view+json": {
       "version_major": 2,
       "version_minor": 0,
       "model_id": "666ed4110f514094beb39cc1789414ac"
      }
     },
     "metadata": {},
     "output_type": "display_data"
    },
    {
     "data": {
      "text/plain": [
       "tokenizer.json:   0%|          | 0.00/466k [00:00<?, ?B/s]"
      ],
      "application/vnd.jupyter.widget-view+json": {
       "version_major": 2,
       "version_minor": 0,
       "model_id": "60224ce4724f4636918511f17f00dbcd"
      }
     },
     "metadata": {},
     "output_type": "display_data"
    },
    {
     "data": {
      "text/plain": [
       "special_tokens_map.json:   0%|          | 0.00/239 [00:00<?, ?B/s]"
      ],
      "application/vnd.jupyter.widget-view+json": {
       "version_major": 2,
       "version_minor": 0,
       "model_id": "3afbfe776a3c47de8e128ee2ce4b4a0f"
      }
     },
     "metadata": {},
     "output_type": "display_data"
    },
    {
     "data": {
      "text/plain": [
       "1_Pooling/config.json:   0%|          | 0.00/190 [00:00<?, ?B/s]"
      ],
      "application/vnd.jupyter.widget-view+json": {
       "version_major": 2,
       "version_minor": 0,
       "model_id": "58506c358ba5483b9bdbabad50ed2899"
      }
     },
     "metadata": {},
     "output_type": "display_data"
    }
   ],
   "execution_count": 24
  },
  {
   "metadata": {
    "ExecuteTime": {
     "end_time": "2024-06-02T15:30:48.162251Z",
     "start_time": "2024-06-02T15:30:47.570638Z"
    }
   },
   "cell_type": "code",
   "source": [
    "# loader = PyPDFLoader(DOCUMENT_PATH)\n",
    "loader = PyMuPDFLoader(DOCUMENT_PATH)\n",
    "# pages = loader.load_and_split()\n",
    "data = loader.load()"
   ],
   "id": "9f045f757ecdbed1",
   "outputs": [],
   "execution_count": 10
  },
  {
   "metadata": {
    "ExecuteTime": {
     "end_time": "2024-06-02T15:43:42.954039Z",
     "start_time": "2024-06-02T15:43:42.950297Z"
    }
   },
   "cell_type": "code",
   "source": "",
   "id": "b97fd6deff4f934e",
   "outputs": [
    {
     "data": {
      "text/plain": [
       "2275"
      ]
     },
     "execution_count": 32,
     "metadata": {},
     "output_type": "execute_result"
    }
   ],
   "execution_count": 32
  },
  {
   "metadata": {
    "ExecuteTime": {
     "end_time": "2024-06-02T15:31:08.796484Z",
     "start_time": "2024-06-02T15:31:08.753916Z"
    }
   },
   "cell_type": "code",
   "source": [
    "text_splitter = RecursiveCharacterTextSplitter(chunk_size=1000, chunk_overlap=200)\n",
    "all_splits = text_splitter.split_documents(data)"
   ],
   "id": "9d01829764ef86ae",
   "outputs": [],
   "execution_count": 13
  },
  {
   "metadata": {
    "ExecuteTime": {
     "end_time": "2024-06-02T15:54:37.704435Z",
     "start_time": "2024-06-02T15:53:22.679931Z"
    }
   },
   "cell_type": "code",
   "source": "vectorstore = Chroma.from_documents(documents=all_splits[:200], embedding=embedding_model, persist_directory=\"kirsch_book_vectorstore\")",
   "id": "ed1997ce97896a17",
   "outputs": [],
   "execution_count": 40
  },
  {
   "metadata": {
    "ExecuteTime": {
     "end_time": "2024-06-02T15:50:07.558403Z",
     "start_time": "2024-06-02T15:50:07.526911Z"
    }
   },
   "cell_type": "code",
   "source": "# vectorstore = Chroma(persist_directory=\"kirsch_book_vectorstore\", embedding_function=embedding_model)",
   "id": "2479ff8e2561f",
   "outputs": [],
   "execution_count": 35
  },
  {
   "metadata": {
    "ExecuteTime": {
     "end_time": "2024-06-02T15:57:04.109174Z",
     "start_time": "2024-06-02T15:57:03.803369Z"
    }
   },
   "cell_type": "code",
   "source": "results = vectorstore.similarity_search(\"Python\", k=5)",
   "id": "59ec56cd502801c5",
   "outputs": [],
   "execution_count": 46
  },
  {
   "metadata": {
    "ExecuteTime": {
     "end_time": "2024-06-02T15:56:49.470310Z",
     "start_time": "2024-06-02T15:56:49.468291Z"
    }
   },
   "cell_type": "code",
   "source": "results[0]",
   "id": "1ab3bb271f80af30",
   "outputs": [
    {
     "data": {
      "text/plain": [
       "Document(page_content='(assignment, while loop, if-then-else, procedure call, and return) and standard arithmetic (+, -, *,\\n/, %) and comparison (==, !=, <, >, <=, >=) operators over variables and procedure calls as well\\nas integer, character, and string literals. C* includes the unary * operator for dereferencing\\npointers hence the name but excludes data types other than uint64_t and uint64_t* (int is\\nbootstrapped to uint64_t), bitwise and Boolean operators, and many other features. The C*', metadata={'author': 'Christoph Kirsch', 'creationDate': \"D:20231114172245Z00'00'\", 'creator': 'Marked 2', 'file_path': '../kirsch_book.pdf', 'format': 'PDF 1.4', 'keywords': '', 'modDate': \"D:20231114172245Z00'00'\", 'page': 13, 'producer': 'macOS Version 14.1 (Build 23B74) Quartz PDFContext', 'source': '../kirsch_book.pdf', 'subject': '', 'title': 'Elementary Computer Science', 'total_pages': 359, 'trapped': ''})"
      ]
     },
     "execution_count": 45,
     "metadata": {},
     "output_type": "execute_result"
    }
   ],
   "execution_count": 45
  },
  {
   "metadata": {
    "ExecuteTime": {
     "end_time": "2024-06-02T16:24:43.669771Z",
     "start_time": "2024-06-02T16:24:43.666924Z"
    }
   },
   "cell_type": "code",
   "source": "retriever = vectorstore.as_retriever()",
   "id": "48a162ad684ce580",
   "outputs": [],
   "execution_count": 48
  },
  {
   "metadata": {
    "ExecuteTime": {
     "end_time": "2024-06-02T16:26:51.886759Z",
     "start_time": "2024-06-02T16:26:47.024319Z"
    }
   },
   "cell_type": "code",
   "source": "prompt = hub.pull(\"rlm/rag-prompt\")",
   "id": "8382f084ae7e1720",
   "outputs": [],
   "execution_count": 54
  },
  {
   "metadata": {
    "ExecuteTime": {
     "end_time": "2024-06-02T16:26:54.718888Z",
     "start_time": "2024-06-02T16:26:54.715346Z"
    }
   },
   "cell_type": "code",
   "source": "prompt",
   "id": "f50d41577679de26",
   "outputs": [
    {
     "data": {
      "text/plain": [
       "ChatPromptTemplate(input_variables=['context', 'question'], metadata={'lc_hub_owner': 'rlm', 'lc_hub_repo': 'rag-prompt', 'lc_hub_commit_hash': '50442af133e61576e74536c6556cefe1fac147cad032f4377b60c436e6cdcb6e'}, messages=[HumanMessagePromptTemplate(prompt=PromptTemplate(input_variables=['context', 'question'], template=\"You are an assistant for question-answering tasks. Use the following pieces of retrieved context to answer the question. If you don't know the answer, just say that you don't know. Use three sentences maximum and keep the answer concise.\\nQuestion: {question} \\nContext: {context} \\nAnswer:\"))])"
      ]
     },
     "execution_count": 55,
     "metadata": {},
     "output_type": "execute_result"
    }
   ],
   "execution_count": 55
  },
  {
   "metadata": {
    "ExecuteTime": {
     "end_time": "2024-06-02T16:28:42.418010Z",
     "start_time": "2024-06-02T16:28:42.414749Z"
    }
   },
   "cell_type": "code",
   "source": [
    "def format_docs(docs):\n",
    "    return \"\\n\\n\".join(doc.page_content for doc in docs)\n",
    "\n",
    "\n",
    "rag_chain = (\n",
    "    {\"context\": retriever | format_docs, \"question\": RunnablePassthrough()}\n",
    "    | prompt\n",
    "    | llm\n",
    "    | StrOutputParser()\n",
    ")"
   ],
   "id": "9a56ff1045d62170",
   "outputs": [],
   "execution_count": 58
  },
  {
   "metadata": {
    "ExecuteTime": {
     "end_time": "2024-06-02T16:29:08.712728Z",
     "start_time": "2024-06-02T16:28:56.936779Z"
    }
   },
   "cell_type": "code",
   "source": "rag_chain.invoke(\"What is the name of the author of the book?\")",
   "id": "2e76b212eb29e379",
   "outputs": [
    {
     "data": {
      "text/plain": [
       "\"I don't know. The provided context does not mention the author of a book. It appears to be discussing computer programming and machine code, but it does not reference a specific book or its author.\""
      ]
     },
     "execution_count": 59,
     "metadata": {},
     "output_type": "execute_result"
    }
   ],
   "execution_count": 59
  },
  {
   "metadata": {},
   "cell_type": "code",
   "outputs": [],
   "execution_count": null,
   "source": "",
   "id": "ce888a7d8758ce"
  }
 ],
 "metadata": {
  "kernelspec": {
   "display_name": "Python 3",
   "language": "python",
   "name": "python3"
  },
  "language_info": {
   "codemirror_mode": {
    "name": "ipython",
    "version": 2
   },
   "file_extension": ".py",
   "mimetype": "text/x-python",
   "name": "python",
   "nbconvert_exporter": "python",
   "pygments_lexer": "ipython2",
   "version": "2.7.6"
  }
 },
 "nbformat": 4,
 "nbformat_minor": 5
}
